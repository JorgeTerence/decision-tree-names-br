{
 "cells": [
  {
   "cell_type": "code",
   "execution_count": 25,
   "id": "21f2d3cb",
   "metadata": {},
   "outputs": [],
   "source": [
    "VOWELS = [\"a\", \"i\", \"u\", \"e\", \"o\", \"y\"]\n",
    "SKIPPABLE = [\"l\", \"r\", \"s\", \"m\", \"n\", \"h\"]\n",
    "\n",
    "NASAL_CONSONANTS = [\"z\", \"d\", \"v\", \"g\", \"b\"]\n",
    "SHARP_CONSONANTS = [\"q\", \"k\", \"t\", \"p\"]\n",
    "\n",
    "is_vowel = lambda c: c in VOWELS\n",
    "is_consonant = lambda c: c not in VOWELS\n",
    "is_nasal = lambda c: c in NASAL_CONSONANTS\n",
    "is_sharp = lambda c: c in SHARP_CONSONANTS\n",
    "\n",
    "\n",
    "def char_slide(s):\n",
    "    return list(zip([None] + list(s), s, list(s[1:]) + [None]))\n",
    "\n",
    "\n",
    "def count_nasal_phonemes(word: str) -> int:\n",
    "    nasal_s_occurrences = 0\n",
    "\n",
    "    # check where does 's' behave like 'z'\n",
    "    for prev_char, char, next_char in char_slide(word):\n",
    "        if char == \"s\" and is_vowel(prev_char) and is_vowel(next_char):\n",
    "            nasal_s_occurrences += 1\n",
    "\n",
    "    return sum(is_nasal(c) for c in word) + nasal_s_occurrences\n",
    "\n",
    "\n",
    "def count_sharp_phonemes(word: str) -> int:\n",
    "    sharp_c_occurrences = 0\n",
    "\n",
    "    # check where does 'c' behave like 'k'\n",
    "    for _, char, next_char in char_slide(word):\n",
    "        if char == \"c\" and next_char not in [\"i\", \"e\"]:\n",
    "            sharp_c_occurrences += 1\n",
    "\n",
    "    return sum(is_sharp(c) for c in word) + sharp_c_occurrences\n"
   ]
  },
  {
   "cell_type": "code",
   "execution_count": 26,
   "id": "88eb7969",
   "metadata": {},
   "outputs": [
    {
     "data": {
      "text/plain": [
       "(0, 0, 1)"
      ]
     },
     "execution_count": 26,
     "metadata": {},
     "output_type": "execute_result"
    }
   ],
   "source": [
    "def count_r_pronounciations(word: str) -> tuple[int, int, int]:\n",
    "    rome_count = 0\n",
    "    potato_count = 0\n",
    "\n",
    "    for _, char, next_char in char_slide(word)[1:]:\n",
    "        if char == \"r\":\n",
    "            if is_vowel(next_char):\n",
    "                rome_count += 1\n",
    "            else:\n",
    "                potato_count += 1\n",
    "\n",
    "    return (\n",
    "        rome_count,  # rome\n",
    "        potato_count,  # potato\n",
    "        word.count(\"rr\") + word.startswith(\"r\"),  # laughed\n",
    "    )\n",
    "\n",
    "\n",
    "count_r_pronounciations(\"roma\")"
   ]
  }
 ],
 "metadata": {
  "kernelspec": {
   "display_name": ".venv",
   "language": "python",
   "name": "python3"
  },
  "language_info": {
   "codemirror_mode": {
    "name": "ipython",
    "version": 3
   },
   "file_extension": ".py",
   "mimetype": "text/x-python",
   "name": "python",
   "nbconvert_exporter": "python",
   "pygments_lexer": "ipython3",
   "version": "3.12.3"
  }
 },
 "nbformat": 4,
 "nbformat_minor": 5
}
