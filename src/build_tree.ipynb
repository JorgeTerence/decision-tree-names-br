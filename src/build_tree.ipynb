{
 "cells": [
  {
   "cell_type": "code",
   "execution_count": 5,
   "id": "4ebf53c3",
   "metadata": {},
   "outputs": [],
   "source": [
    "import pandas as pd\n",
    "\n",
    "from features import Featured\n",
    "\n",
    "people = pd.read_csv(\"../datasets/brazilian_names.csv\")\n",
    "\n",
    "df = pd.DataFrame([Featured.from_row(row[\"name\"], row[\"gender\"]) for row in people.to_dict(orient=\"records\")])"
   ]
  },
  {
   "cell_type": "code",
   "execution_count": 12,
   "id": "e02cb499",
   "metadata": {},
   "outputs": [
    {
     "data": {
      "text/html": [
       "<div>\n",
       "<style scoped>\n",
       "    .dataframe tbody tr th:only-of-type {\n",
       "        vertical-align: middle;\n",
       "    }\n",
       "\n",
       "    .dataframe tbody tr th {\n",
       "        vertical-align: top;\n",
       "    }\n",
       "\n",
       "    .dataframe thead th {\n",
       "        text-align: right;\n",
       "    }\n",
       "</style>\n",
       "<table border=\"1\" class=\"dataframe\">\n",
       "  <thead>\n",
       "    <tr style=\"text-align: right;\">\n",
       "      <th></th>\n",
       "      <th>original</th>\n",
       "      <th>syllables</th>\n",
       "      <th>ends_in_vowel</th>\n",
       "      <th>ending_vowel</th>\n",
       "      <th>ending_consonant</th>\n",
       "      <th>nasal_count</th>\n",
       "      <th>sharp_count</th>\n",
       "      <th>a_count</th>\n",
       "      <th>i_count</th>\n",
       "      <th>u_count</th>\n",
       "      <th>e_count</th>\n",
       "      <th>o_count</th>\n",
       "      <th>rome_r_count</th>\n",
       "      <th>potato_r_count</th>\n",
       "      <th>laughed_r_count</th>\n",
       "      <th>gender</th>\n",
       "    </tr>\n",
       "  </thead>\n",
       "  <tbody>\n",
       "    <tr>\n",
       "      <th>91</th>\n",
       "      <td>beatriz</td>\n",
       "      <td>[Bea, tri, z]</td>\n",
       "      <td>False</td>\n",
       "      <td>None</td>\n",
       "      <td>z</td>\n",
       "      <td>2</td>\n",
       "      <td>1</td>\n",
       "      <td>1</td>\n",
       "      <td>1</td>\n",
       "      <td>0</td>\n",
       "      <td>1</td>\n",
       "      <td>0</td>\n",
       "      <td>1</td>\n",
       "      <td>0</td>\n",
       "      <td>0</td>\n",
       "      <td>F</td>\n",
       "    </tr>\n",
       "  </tbody>\n",
       "</table>\n",
       "</div>"
      ],
      "text/plain": [
       "   original      syllables  ends_in_vowel ending_vowel ending_consonant  \\\n",
       "91  beatriz  [Bea, tri, z]          False         None                z   \n",
       "\n",
       "    nasal_count  sharp_count  a_count  i_count  u_count  e_count  o_count  \\\n",
       "91            2            1        1        1        0        1        0   \n",
       "\n",
       "    rome_r_count  potato_r_count  laughed_r_count gender  \n",
       "91             1               0                0      F  "
      ]
     },
     "execution_count": 12,
     "metadata": {},
     "output_type": "execute_result"
    }
   ],
   "source": [
    "df.loc[df[\"ending_vowel\"].isna()]"
   ]
  },
  {
   "cell_type": "code",
   "execution_count": 9,
   "id": "625ff0ae",
   "metadata": {},
   "outputs": [
    {
     "data": {
      "text/plain": [
       "ending_vowel\n",
       "a    44\n",
       "o    29\n",
       "e    13\n",
       "i     9\n",
       "u     3\n",
       "y     1\n",
       "Name: count, dtype: int64"
      ]
     },
     "execution_count": 9,
     "metadata": {},
     "output_type": "execute_result"
    }
   ],
   "source": [
    "df[\"ending_vowel\"].value_counts()"
   ]
  }
 ],
 "metadata": {
  "kernelspec": {
   "display_name": ".venv",
   "language": "python",
   "name": "python3"
  },
  "language_info": {
   "codemirror_mode": {
    "name": "ipython",
    "version": 3
   },
   "file_extension": ".py",
   "mimetype": "text/x-python",
   "name": "python",
   "nbconvert_exporter": "python",
   "pygments_lexer": "ipython3",
   "version": "3.12.3"
  }
 },
 "nbformat": 4,
 "nbformat_minor": 5
}
